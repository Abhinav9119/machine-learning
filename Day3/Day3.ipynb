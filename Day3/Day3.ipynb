{
 "cells": [
  {
   "cell_type": "code",
   "execution_count": null,
   "id": "2217892b-0cdb-4a37-8b57-fe9527c482ab",
   "metadata": {},
   "outputs": [],
   "source": [
    "import pandas as pd\n",
    "import numpy as np\n",
    "from sklearn.metrics import r2_score,mean_absolute_error\n",
    "from sklearn.metrics import mean_squared_error\n",
    "from sklearn.linear_model import LogisticRegression\n",
    "from sklearn.model_selection import train_test_split\n",
    "\n",
    "import os\n",
    "os.chdir(r\"C:\\Users\\dbda\\Desktop\\MACHINE LEARNING\\cases\\Kyphosis\")\n",
    "from sklearn.impute import SimpleImputer\n",
    "kyp=pd.read_csv(\"Kyphosis.csv\")\n",
    "y=kyp[\"Kyphosis\"]\n",
    "x=kyp.drop(\"Kyphosis\",axis=1)\n",
    "print(f\"perdcentage: {y.value_counts(normalize=True)*100}\")\n",
    "xtrain,xtest,ytrain,ytest=train_test_split(x,y,test_size=0.3,stratify=y,random_state=24)   #stratify the ....?"
   ]
  },
  {
   "cell_type": "code",
   "execution_count": 86,
   "id": "3273c135-4957-4f59-bb09-bf6f6cae40d2",
   "metadata": {},
   "outputs": [
    {
     "name": "stdout",
     "output_type": "stream",
     "text": [
      "Kyphosis\n",
      "absent     78.571429\n",
      "present    21.428571\n",
      "Name: proportion, dtype: float64\n",
      "Kyphosis\n",
      "absent     80.0\n",
      "present    20.0\n",
      "Name: proportion, dtype: float64\n"
     ]
    }
   ],
   "source": [
    "print(ytrain.value_counts(normalize=True)*100)\n",
    "print(ytest.value_counts(normalize=True)*100)\n"
   ]
  },
  {
   "cell_type": "code",
   "execution_count": 87,
   "id": "224ae2cf-f847-450f-865c-e2a1eaa3b7e8",
   "metadata": {},
   "outputs": [],
   "source": [
    "lr=LogisticRegression()\n",
    "lr.fit(xtrain,ytrain)\n",
    "ypred_prob=lr.predict_proba(xtest)"
   ]
  },
  {
   "cell_type": "code",
   "execution_count": 88,
   "id": "6f3717f8-e6fe-4a8f-9cd9-8778e54a2c3e",
   "metadata": {},
   "outputs": [
    {
     "data": {
      "text/plain": [
       "array([[0.88848653, 0.11151347],\n",
       "       [0.24728736, 0.75271264],\n",
       "       [0.93843929, 0.06156071],\n",
       "       [0.1981647 , 0.8018353 ],\n",
       "       [0.5129601 , 0.4870399 ],\n",
       "       [0.56959223, 0.43040777],\n",
       "       [0.923148  , 0.076852  ],\n",
       "       [0.94769068, 0.05230932],\n",
       "       [0.949943  , 0.050057  ],\n",
       "       [0.37940374, 0.62059626],\n",
       "       [0.7969583 , 0.2030417 ],\n",
       "       [0.98649588, 0.01350412],\n",
       "       [0.23919392, 0.76080608],\n",
       "       [0.97651439, 0.02348561],\n",
       "       [0.90737983, 0.09262017],\n",
       "       [0.31389055, 0.68610945],\n",
       "       [0.7699163 , 0.2300837 ],\n",
       "       [0.9520269 , 0.0479731 ],\n",
       "       [0.78058622, 0.21941378],\n",
       "       [0.98268012, 0.01731988],\n",
       "       [0.84065181, 0.15934819],\n",
       "       [0.97587544, 0.02412456],\n",
       "       [0.90479974, 0.09520026],\n",
       "       [0.19009826, 0.80990174],\n",
       "       [0.12051929, 0.87948071]])"
      ]
     },
     "execution_count": 88,
     "metadata": {},
     "output_type": "execute_result"
    }
   ],
   "source": [
    "ypred_prob"
   ]
  },
  {
   "cell_type": "code",
   "execution_count": 89,
   "id": "29e49720-9883-4913-968c-44b997e73da1",
   "metadata": {},
   "outputs": [
    {
     "name": "stdout",
     "output_type": "stream",
     "text": [
      "[[0.88848653 0.11151347]\n",
      " [0.24728736 0.75271264]\n",
      " [0.93843929 0.06156071]\n",
      " [0.1981647  0.8018353 ]\n",
      " [0.5129601  0.4870399 ]\n",
      " [0.56959223 0.43040777]\n",
      " [0.923148   0.076852  ]\n",
      " [0.94769068 0.05230932]\n",
      " [0.949943   0.050057  ]\n",
      " [0.37940374 0.62059626]\n",
      " [0.7969583  0.2030417 ]\n",
      " [0.98649588 0.01350412]\n",
      " [0.23919392 0.76080608]\n",
      " [0.97651439 0.02348561]\n",
      " [0.90737983 0.09262017]\n",
      " [0.31389055 0.68610945]\n",
      " [0.7699163  0.2300837 ]\n",
      " [0.9520269  0.0479731 ]\n",
      " [0.78058622 0.21941378]\n",
      " [0.98268012 0.01731988]\n",
      " [0.84065181 0.15934819]\n",
      " [0.97587544 0.02412456]\n",
      " [0.90479974 0.09520026]\n",
      " [0.19009826 0.80990174]\n",
      " [0.12051929 0.87948071]]\n",
      "['absent' 'present' 'absent' 'present' 'absent' 'absent' 'absent' 'absent'\n",
      " 'absent' 'present' 'absent' 'absent' 'present' 'absent' 'absent'\n",
      " 'present' 'absent' 'absent' 'absent' 'absent' 'absent' 'absent' 'absent'\n",
      " 'present' 'present']\n"
     ]
    }
   ],
   "source": [
    "y_pred_prob=lr.predict_proba(xtest)\n",
    "y_pred=lr.predict(xtest)\n",
    "print(y_pred_prob)\n",
    "print(y_pred)"
   ]
  },
  {
   "cell_type": "markdown",
   "id": "3690dd29-1cdf-4686-a690-aea55c4d5411",
   "metadata": {},
   "source": [
    "### confusion matrix\n"
   ]
  },
  {
   "cell_type": "code",
   "execution_count": 90,
   "id": "6d6095bf-e575-4068-b3be-51c9990fec76",
   "metadata": {},
   "outputs": [
    {
     "name": "stdout",
     "output_type": "stream",
     "text": [
      "0.76\n"
     ]
    }
   ],
   "source": [
    "from sklearn.metrics import confusion_matrix, ConfusionMatrixDisplay\n",
    "import matplotlib.pyplot as plt\n",
    "from sklearn.metrics import accuracy_score\n",
    "print(accuracy_score(ytest,y_pred))"
   ]
  },
  {
   "cell_type": "code",
   "execution_count": 91,
   "id": "c7ce97d4-6889-425c-889e-f7ed6cc3662d",
   "metadata": {},
   "outputs": [
    {
     "data": {
      "image/png": "[encoded data removed]",
      "text/plain": [
       "<Figure size 640x480 with 2 Axes>"
      ]
     },
     "metadata": {},
     "output_type": "display_data"
    }
   ],
   "source": [
    "cm=confusion_matrix(ytest,y_pred)\n",
    "disp=ConfusionMatrixDisplay(confusion_matrix=cm,display_labels=[\"Absent\",\"Present\"])\n",
    "disp.plot()\n",
    "plt.show()"
   ]
  },
  {
   "cell_type": "markdown",
   "id": "0ca3147b-6146-42fa-a961-de0b0a668488",
   "metadata": {},
   "source": [
    "# using KFold in classification (stratified KFold)"
   ]
  },
  {
   "cell_type": "markdown",
   "id": "e70df277-dd9b-46a0-9d9b-8a868edb7c44",
   "metadata": {},
   "source": [
    "#### for classification problems dont use kfold directly insted of that use StratifiedKFold"
   ]
  },
  {
   "cell_type": "code",
   "execution_count": 92,
   "id": "ae36eff1-284b-4471-9b7b-35ace49c7c3b",
   "metadata": {},
   "outputs": [],
   "source": [
    "from sklearn.model_selection import StratifiedKFold\n",
    "from sklearn.model_selection import cross_val_score"
   ]
  },
  {
   "cell_type": "code",
   "execution_count": 93,
   "id": "11ec5afc-2e66-4244-a998-c95a0d554a91",
   "metadata": {},
   "outputs": [],
   "source": [
    "kfold=StratifiedKFold(n_splits=5,shuffle=True,random_state=24)\n"
   ]
  },
  {
   "cell_type": "code",
   "execution_count": 94,
   "id": "ace949f7-e6f5-46ca-89f2-76d969575790",
   "metadata": {},
   "outputs": [],
   "source": [
    "results=cross_val_score(lr,x,y,cv=kfold)"
   ]
  },
  {
   "cell_type": "code",
   "execution_count": 95,
   "id": "27eb82f8-dde3-400c-8783-8d3321b3ae15",
   "metadata": {},
   "outputs": [
    {
     "name": "stdout",
     "output_type": "stream",
     "text": [
      "0.8411764705882353\n"
     ]
    }
   ],
   "source": [
    "print(results.mean())"
   ]
  },
  {
   "cell_type": "code",
   "execution_count": 96,
   "id": "70b21502-ecf8-4e25-96f3-679875b677dd",
   "metadata": {},
   "outputs": [],
   "source": [
    "#results=cross_val_score(lr,x,y,cv=kfold,scoring=\"roc_auc\") #roc_auc scores are generated"
   ]
  },
  {
   "cell_type": "code",
   "execution_count": 97,
   "id": "7496ee60-9770-442d-8b3b-f615ae70a169",
   "metadata": {},
   "outputs": [
    {
     "name": "stdout",
     "output_type": "stream",
     "text": [
      "0.8411764705882353\n"
     ]
    }
   ],
   "source": [
    "print(results.mean())  #"
   ]
  },
  {
   "cell_type": "markdown",
   "id": "6fd1cc85-a074-4514-8e17-e9f9d393b577",
   "metadata": {},
   "source": [
    "## Recall and precision"
   ]
  },
  {
   "cell_type": "code",
   "execution_count": 100,
   "id": "1c8c3bcd-34fb-47c5-9a83-cd99ce94aac1",
   "metadata": {},
   "outputs": [],
   "source": [
    " from sklearn.metrics import recall_score,precision_score,f1_score"
   ]
  },
  {
   "cell_type": "code",
   "execution_count": 101,
   "id": "59569146-d394-404d-bd3f-2d4cfd0eee53",
   "metadata": {},
   "outputs": [
    {
     "name": "stdout",
     "output_type": "stream",
     "text": [
      "0.6\n",
      "0.8\n",
      "0.42857142857142855\n",
      "0.8888888888888888\n"
     ]
    }
   ],
   "source": [
    "print(recall_score(ytest,y_pred,pos_label=\"present\"))\n",
    "print(recall_score(ytest,y_pred,pos_label=\"absent\"))\n",
    "print(precision_score(ytest,y_pred,pos_label=\"present\"))\n",
    "print(precision_score(ytest,y_pred,pos_label=\"absent\"))"
   ]
  },
  {
   "cell_type": "markdown",
   "id": "9aa7342f-043c-4a86-bdca-22f39c5879cd",
   "metadata": {},
   "source": [
    "### F1_score"
   ]
  },
  {
   "cell_type": "code",
   "execution_count": 102,
   "id": "a9ceea2e-7233-4d22-bc99-b774cc20cb09",
   "metadata": {},
   "outputs": [
    {
     "name": "stdout",
     "output_type": "stream",
     "text": [
      "0.5\n",
      "0.8421052631578947\n"
     ]
    }
   ],
   "source": [
    "print(f1_score(ytest,y_pred,pos_label=\"present\"))\n",
    "print(f1_score(ytest,y_pred,pos_label=\"absent\"))"
   ]
  },
  {
   "cell_type": "markdown",
   "id": "83faabc7-545c-4257-8062-7fc055977207",
   "metadata": {},
   "source": [
    "# classification Report function"
   ]
  },
  {
   "cell_type": "code",
   "execution_count": 103,
   "id": "69eb9aee-408a-452b-bd59-16acd8a5f6f6",
   "metadata": {},
   "outputs": [
    {
     "name": "stdout",
     "output_type": "stream",
     "text": [
      "              precision    recall  f1-score   support\n",
      "\n",
      "      absent       0.89      0.80      0.84        20\n",
      "     present       0.43      0.60      0.50         5\n",
      "\n",
      "    accuracy                           0.76        25\n",
      "   macro avg       0.66      0.70      0.67        25\n",
      "weighted avg       0.80      0.76      0.77        25\n",
      "\n"
     ]
    }
   ],
   "source": [
    "from sklearn.metrics import classification_report\n",
    "print(classification_report(ytest,y_pred))"
   ]
  },
  {
   "cell_type": "code",
   "execution_count": 104,
   "id": "92cf94e9-806f-4520-9fbd-66b45fdd687a",
   "metadata": {},
   "outputs": [
    {
     "data": {
      "text/plain": [
       "0.66"
      ]
     },
     "execution_count": 104,
     "metadata": {},
     "output_type": "execute_result"
    }
   ],
   "source": [
    "(0.89+0.43)/2"
   ]
  },
  {
   "cell_type": "code",
   "execution_count": 105,
   "id": "4a87c0cd-e861-47b6-bd8a-29895ab0bc04",
   "metadata": {},
   "outputs": [
    {
     "data": {
      "text/plain": [
       "0.7979999999999999"
      ]
     },
     "execution_count": 105,
     "metadata": {},
     "output_type": "execute_result"
    }
   ],
   "source": [
    "((20*0.89)+(5*0.43))/25"
   ]
  },
  {
   "cell_type": "markdown",
   "id": "77913bea-18ef-4332-bfb0-8a3b9f6c9b7d",
   "metadata": {},
   "source": [
    "balanced classification-value count (dependent column) in categories are 50 50  in each class then it is called balanced classification e.g present =50 ,absent =50\n",
    "imbalanced classification -value count in dependent column in categories are not 50-59 in each class then it is calle imbalance classification e.g present =20, absent =7 then ve cant trust on accuracy"
   ]
  },
  {
   "cell_type": "code",
   "execution_count": null,
   "id": "51c2e522-5bc7-432f-9dd6-2a83d5baf7fd",
   "metadata": {},
   "outputs": [],
   "source": []
  },
  {
   "cell_type": "markdown",
   "id": "d934f0a8-9044-45ab-99ad-e13d3e37dfdd",
   "metadata": {},
   "source": [
    "for label encoding we do it to dependent variable\n",
    "roc_curve we need to passs probability of 1 index\n",
    "roc_curve funcrtion return fpr(false possitive rate ),tpr(true positive rate),tres()\\\n",
    "area under this curve is measured in ideal case if aall probabilities are perfect we can see gaph as square (and area under curve is 1) perfect result of roc is 1 "
   ]
  },
  {
   "cell_type": "code",
   "execution_count": 106,
   "id": "c0a98f1a-5424-4062-91d5-6543e02a7355",
   "metadata": {},
   "outputs": [
    {
     "name": "stdout",
     "output_type": "stream",
     "text": [
      "['absent' 'present']\n"
     ]
    }
   ],
   "source": [
    "from sklearn.preprocessing import LabelEncoder\n",
    "from sklearn.metrics import roc_curve,roc_auc_score\n",
    "le=LabelEncoder()\n",
    "kyp[\"Kyphosis\"]=le.fit_transform(kyp[\"Kyphosis\"])\n",
    "print(le.classes_)\n",
    "y=kyp[\"Kyphosis\"]\n",
    "x=kyp.drop(\"Kyphosis\",axis=1)\n",
    "xtrain,xtest,ytrain,ytest=train_test_split(x,y,test_size=0.3,stratify=y,random_state=24)\n"
   ]
  },
  {
   "cell_type": "code",
   "execution_count": 107,
   "id": "effb472d-f68b-409c-be06-956bcdd3ac0b",
   "metadata": {},
   "outputs": [
    {
     "name": "stdout",
     "output_type": "stream",
     "text": [
      "[0.11427962] [[ 0.01211053  0.15337547 -0.29739976]]\n"
     ]
    },
    {
     "data": {
      "text/plain": [
       "array([[0.88955291, 0.11044709],\n",
       "       [0.24688207, 0.75311793],\n",
       "       [0.93958609, 0.06041391],\n",
       "       [0.1960236 , 0.8039764 ],\n",
       "       [0.51318318, 0.48681682],\n",
       "       [0.56795045, 0.43204955],\n",
       "       [0.92474775, 0.07525225],\n",
       "       [0.94825995, 0.05174005],\n",
       "       [0.95114805, 0.04885195],\n",
       "       [0.37651965, 0.62348035],\n",
       "       [0.79721458, 0.20278542],\n",
       "       [0.98694258, 0.01305742],\n",
       "       [0.23701332, 0.76298668],\n",
       "       [0.97709826, 0.02290174],\n",
       "       [0.90799333, 0.09200667],\n",
       "       [0.31196883, 0.68803117],\n",
       "       [0.77080119, 0.22919881],\n",
       "       [0.95299109, 0.04700891],\n",
       "       [0.78062708, 0.21937292],\n",
       "       [0.98322476, 0.01677524],\n",
       "       [0.84233781, 0.15766219],\n",
       "       [0.97636492, 0.02363508],\n",
       "       [0.90663399, 0.09336601],\n",
       "       [0.18727327, 0.81272673],\n",
       "       [0.118705  , 0.881295  ]])"
      ]
     },
     "execution_count": 107,
     "metadata": {},
     "output_type": "execute_result"
    }
   ],
   "source": [
    "lr=LogisticRegression(penalty=None)\n",
    "lr.fit(xtrain,ytrain)\n",
    "print(lr.intercept_,lr.coef_)\n",
    "y_pred_prob=lr.predict_proba(xtest)\n",
    "y_pred_prob"
   ]
  },
  {
   "cell_type": "code",
   "execution_count": 108,
   "id": "3ce7ace1-f4cd-4ef8-99dd-589125b233d9",
   "metadata": {},
   "outputs": [],
   "source": [
    "fpr,tpr,tres=roc_curve(ytest,y_pred_prob[:,1])"
   ]
  },
  {
   "cell_type": "code",
   "execution_count": 109,
   "id": "1f25900e-355b-45f9-b5cf-673d81a7b6d1",
   "metadata": {},
   "outputs": [
    {
     "data": {
      "image/png": "[encoded data removed]",
      "text/plain": [
       "<Figure size 640x480 with 1 Axes>"
      ]
     },
     "metadata": {},
     "output_type": "display_data"
    }
   ],
   "source": [
    "plt.scatter(fpr,tpr,c=\"hotpink\",s=100)\n",
    "plt.plot(fpr,tpr,c=\"blue\")\n",
    "plt.xlabel(\"1-specificity\")\n",
    "plt.ylabel(\"sensitivity\")\n",
    "plt.show()"
   ]
  },
  {
   "cell_type": "code",
   "execution_count": 110,
   "id": "78678579-d45b-4590-8a43-01ef05051be2",
   "metadata": {},
   "outputs": [
    {
     "name": "stdout",
     "output_type": "stream",
     "text": [
      "0.81\n"
     ]
    }
   ],
   "source": [
    "\n",
    "#find area under curve\n",
    "print(roc_auc_score(ytest,y_pred_prob[:,1]))"
   ]
  },
  {
   "cell_type": "markdown",
   "id": "bfc3d1ab-ba97-45a9-b850-edae5953d0cc",
   "metadata": {},
   "source": [
    "# log loss\n",
    "### it is diagnostic indicator \n",
    "### it gives how far we are from ideal situation\n",
    "### used as loss function \n",
    "### minimum is better\n",
    "### compare with across other models and compare all other models and take that model who has less log loss or have log loss near to zero\n",
    "### requires probabilities \n",
    "### negative get maximize and pozitive get minimized\n",
    "### "
   ]
  },
  {
   "cell_type": "code",
   "execution_count": 112,
   "id": "ad927e98-f6ce-46b8-80cc-3ff66c5c9584",
   "metadata": {},
   "outputs": [
    {
     "name": "stdout",
     "output_type": "stream",
     "text": [
      "0.46139861529851806\n"
     ]
    }
   ],
   "source": [
    "from sklearn.metrics import log_loss\n",
    "print(log_loss(ytest,y_pred_prob[:,1]))"
   ]
  },
  {
   "cell_type": "code",
   "execution_count": 114,
   "id": "7158ef4a-57ce-46d6-8890-94f10af19905",
   "metadata": {},
   "outputs": [],
   "source": [
    "### evaluate kfold with log loss "
   ]
  },
  {
   "cell_type": "code",
   "execution_count": 116,
   "id": "9ffe941f-310a-48f3-803b-bdc184107879",
   "metadata": {},
   "outputs": [
    {
     "name": "stdout",
     "output_type": "stream",
     "text": [
      "-0.4365469272503752\n"
     ]
    }
   ],
   "source": [
    "\n",
    "results=cross_val_score(lr,x,y,cv=kfold,scoring=\"neg_log_loss\")\n",
    "print(results.mean())"
   ]
  },
  {
   "cell_type": "code",
   "execution_count": null,
   "id": "98b52e0a-e52b-4863-960c-d646dc925d9a",
   "metadata": {},
   "outputs": [],
   "source": []
  },
  {
   "cell_type": "code",
   "execution_count": null,
   "id": "3a32524c-94ac-4c30-b313-74b62450cbd8",
   "metadata": {},
   "outputs": [],
   "source": []
  },
  {
   "cell_type": "code",
   "execution_count": null,
   "id": "ad3a8e36-e756-4c2a-acee-70617554e78c",
   "metadata": {},
   "outputs": [],
   "source": []
  },
  {
   "cell_type": "code",
   "execution_count": null,
   "id": "fd9877ec-46d1-49de-bb1b-3f38ac8bddbd",
   "metadata": {},
   "outputs": [],
   "source": [
    "from sklearn.model_selection import GridSearchCV\n",
    "from sklearn.model_selection import StratifiedKFold\n",
    "from sklearn.model_selection import cross_val_score"
   ]
  },
  {
   "cell_type": "code",
   "execution_count": 118,
   "id": "8e6d9e7a-0fd2-41a6-a84a-7297216465d3",
   "metadata": {},
   "outputs": [
    {
     "ename": "SyntaxError",
     "evalue": "':' expected after dictionary key (1089478385.py, line 6)",
     "output_type": "error",
     "traceback": [
      "\u001b[1;36m  Cell \u001b[1;32mIn[118], line 6\u001b[1;36m\u001b[0m\n\u001b[1;33m    params={\"alpha\":alphas,\"\"}\u001b[0m\n\u001b[1;37m                            ^\u001b[0m\n\u001b[1;31mSyntaxError\u001b[0m\u001b[1;31m:\u001b[0m ':' expected after dictionary key\n"
     ]
    }
   ],
   "source": [
    "from sklearn.model_selection import GridSearchCV\n",
    "from sklearn.model_selection import StratifiedKFold\n",
    "from sklearn.model_selection import cross_val_score\n",
    "\n",
    "alphas=np.arange(0,10,0.25)\n",
    "params={\"alpha\":alphas,\"\"}\n",
    "ridge=Ridge()\n",
    "kfold=StratifiedKFold(n_splits=5,shuffle=True,random_state=24,scoring=\"neg_log_loss\")\n",
    "gcv=GridSearchCV(ridge,param_grid=params,cv=kfold)\n",
    "gcv.fit(x,y)\n",
    "print(gcv.best_params_)\n",
    "print(gcv.best_score_)"
   ]
  },
  {
   "cell_type": "code",
   "execution_count": null,
   "id": "7e08ace9-5863-4f69-b3d6-a492818bd9a9",
   "metadata": {},
   "outputs": [],
   "source": []
  },
  {
   "cell_type": "markdown",
   "id": "36912b99-343f-4ec5-b0c2-2b4679f16a75",
   "metadata": {},
   "source": [
    "# KNN classifier"
   ]
  },
  {
   "cell_type": "code",
   "execution_count": 131,
   "id": "bfb20fd6-2381-4c55-82e4-bc88804c4584",
   "metadata": {},
   "outputs": [
    {
     "name": "stdout",
     "output_type": "stream",
     "text": [
      "perdcentage: Kyphosis\n",
      "absent     79.012346\n",
      "present    20.987654\n",
      "Name: proportion, dtype: float64\n"
     ]
    }
   ],
   "source": [
    "import pandas as pd\n",
    "import numpy as np\n",
    "from sklearn.metrics import r2_score,mean_absolute_error\n",
    "from sklearn.metrics import mean_squared_error\n",
    "from sklearn.neighbors import KNeighborsClassifier\n",
    "from sklearn.model_selection import train_test_split\n",
    "\n",
    "import os\n",
    "os.chdir(r\"C:\\Users\\dbda\\Desktop\\MACHINE LEARNING\\cases\\Kyphosis\")\n",
    "from sklearn.impute import SimpleImputer\n",
    "kyp=pd.read_csv(\"Kyphosis.csv\")\n",
    "y=kyp[\"Kyphosis\"]\n",
    "x=kyp.drop(\"Kyphosis\",axis=1)\n",
    "print(f\"perdcentage: {y.value_counts(normalize=True)*100}\")\n",
    "xtrain,xtest,ytrain,ytest=train_test_split(x,y,test_size=0.3,stratify=y,random_state=24)   #stratify the ....?"
   ]
  },
  {
   "cell_type": "code",
   "execution_count": 137,
   "id": "41d3e341-76bf-40cd-a37e-3f1883e2447e",
   "metadata": {},
   "outputs": [
    {
     "name": "stdout",
     "output_type": "stream",
     "text": [
      "[[20  0]\n",
      " [ 5  0]]\n",
      "0.8\n",
      "              precision    recall  f1-score   support\n",
      "\n",
      "      absent       0.80      1.00      0.89        20\n",
      "     present       0.00      0.00      0.00         5\n",
      "\n",
      "    accuracy                           0.80        25\n",
      "   macro avg       0.40      0.50      0.44        25\n",
      "weighted avg       0.64      0.80      0.71        25\n",
      "\n"
     ]
    },
    {
     "name": "stderr",
     "output_type": "stream",
     "text": [
      "C:\\Users\\dbda\\AppData\\Local\\Programs\\Python\\Python312\\Lib\\site-packages\\sklearn\\metrics\\_classification.py:1517: UndefinedMetricWarning: Precision is ill-defined and being set to 0.0 in labels with no predicted samples. Use `zero_division` parameter to control this behavior.\n",
      "  _warn_prf(average, modifier, f\"{metric.capitalize()} is\", len(result))\n",
      "C:\\Users\\dbda\\AppData\\Local\\Programs\\Python\\Python312\\Lib\\site-packages\\sklearn\\metrics\\_classification.py:1517: UndefinedMetricWarning: Precision is ill-defined and being set to 0.0 in labels with no predicted samples. Use `zero_division` parameter to control this behavior.\n",
      "  _warn_prf(average, modifier, f\"{metric.capitalize()} is\", len(result))\n",
      "C:\\Users\\dbda\\AppData\\Local\\Programs\\Python\\Python312\\Lib\\site-packages\\sklearn\\metrics\\_classification.py:1517: UndefinedMetricWarning: Precision is ill-defined and being set to 0.0 in labels with no predicted samples. Use `zero_division` parameter to control this behavior.\n",
      "  _warn_prf(average, modifier, f\"{metric.capitalize()} is\", len(result))\n"
     ]
    },
    {
     "data": {
      "text/plain": [
       "array(['absent', 'absent', 'absent', 'absent', 'absent', 'absent',\n",
       "       'absent', 'absent', 'absent', 'absent', 'absent', 'absent',\n",
       "       'absent', 'absent', 'absent', 'absent', 'absent', 'absent',\n",
       "       'absent', 'absent', 'absent', 'absent', 'absent', 'absent',\n",
       "       'absent'], dtype=object)"
      ]
     },
     "execution_count": 137,
     "metadata": {},
     "output_type": "execute_result"
    }
   ],
   "source": [
    "knn=KNeighborsClassifier(n_neighbors=4)\n",
    "knn.fit(xtrain,ytrain)\n",
    "y_pred=knn.predict(xtest)\n",
    "print(confusion_matrix(ytest,y_pred)) dew3\n",
    "print(accuracy_score(ytest,y_pred))\n",
    "print(classification_report(ytest,y_pred))\n",
    "y_pred"
   ]
  },
  {
   "cell_type": "code",
   "execution_count": null,
   "id": "0cbf18a3-0ebf-4271-9d7d-6af366160932",
   "metadata": {},
   "outputs": [],
   "source": []
  },
  {
   "cell_type": "code",
   "execution_count": null,
   "id": "7321c4c6-277e-4a2a-ad30-98190191be38",
   "metadata": {},
   "outputs": [],
   "source": []
  },
  {
   "cell_type": "code",
   "execution_count": 136,
   "id": "550ed8b4-c7af-4d5e-a70d-496ece1edab6",
   "metadata": {},
   "outputs": [
    {
     "name": "stdout",
     "output_type": "stream",
     "text": [
      "{'n_neighbors': 7}\n",
      "0.8029411764705883\n"
     ]
    }
   ],
   "source": [
    "#finding best fit for knn using grid search\n",
    "from sklearn.model_selection import GridSearchCV\n",
    "from sklearn.model_selection import StratifiedKFold \n",
    "\n",
    "params = {\"n_neighbors\":[1,2,3,4,5,6,7,8,9,10]}\n",
    "\n",
    "kn = KNeighborsClassifier()\n",
    "kfold = StratifiedKFold(n_splits=5, shuffle=True, random_state=24)\n",
    "rgcv_r= GridSearchCV(kn,param_grid=params ,scoring=\"accuracy\",cv=kfold)\n",
    "rgcv_r.fit(x,y)\n",
    "\n",
    "print(rgcv_r.best_params_)\n",
    "print(rgcv_r.best_score_)\n",
    "\n"
   ]
  },
  {
   "cell_type": "code",
   "execution_count": null,
   "id": "7fccdc58-f876-4ba4-9f9a-7e5be24421b7",
   "metadata": {},
   "outputs": [],
   "source": []
  }
 ],
 "metadata": {
  "kernelspec": {
   "display_name": "Python 3 (ipykernel)",
   "language": "python",
   "name": "python3"
  },
  "language_info": {
   "codemirror_mode": {
    "name": "ipython",
    "version": 3
   },
   "file_extension": ".py",
   "mimetype": "text/x-python",
   "name": "python",
   "nbconvert_exporter": "python",
   "pygments_lexer": "ipython3",
   "version": "3.12.3"
  }
 },
 "nbformat": 4,
 "nbformat_minor": 5
}
